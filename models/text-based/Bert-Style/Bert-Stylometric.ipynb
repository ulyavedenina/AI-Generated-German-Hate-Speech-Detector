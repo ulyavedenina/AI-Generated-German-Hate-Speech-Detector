{
 "cells": [
  {
   "cell_type": "markdown",
   "id": "b45ebc3c-87ce-4dec-801d-577ae335e14f",
   "metadata": {},
   "source": [
    "# BERT Embeddings + Stylometric Features"
   ]
  },
  {
   "cell_type": "markdown",
   "id": "bebb7ba2-b1ee-4fd9-b603-15239331446b",
   "metadata": {},
   "source": [
    "## Imports "
   ]
  },
  {
   "cell_type": "code",
   "execution_count": 1,
   "id": "892aa163-04ec-42e3-8252-be3d410d7ea0",
   "metadata": {},
   "outputs": [
    {
     "name": "stderr",
     "output_type": "stream",
     "text": [
      "/home/vkums/anaconda3/envs/env_sentransformer/lib/python3.8/site-packages/tqdm/auto.py:21: TqdmWarning: IProgress not found. Please update jupyter and ipywidgets. See https://ipywidgets.readthedocs.io/en/stable/user_install.html\n",
      "  from .autonotebook import tqdm as notebook_tqdm\n"
     ]
    }
   ],
   "source": [
    "from sentence_transformers import SentenceTransformer, models\n",
    "from transformers import BertTokenizer, BertModel\n",
    "import pandas as pd\n",
    "import numpy as np\n",
    "import torch\n",
    "from torch import nn\n",
    "import torch.nn.functional as F\n",
    "from ignite.handlers import EarlyStopping\n",
    "import random\n",
    "from sklearn.neural_network import MLPClassifier\n",
    "from sklearn.metrics import classification_report, f1_score, accuracy_score\n",
    "from sklearn.metrics.pairwise import cosine_similarity\n",
    "from sklearn.model_selection import GridSearchCV, train_test_split\n",
    "from sklearn.preprocessing import MinMaxScaler\n",
    "from sklearn.svm import NuSVC\n",
    "import scipy\n",
    "from tqdm import tqdm\n",
    "import peft\n",
    "from peft import PeftConfig, PeftModel\n",
    "import copy\n",
    "import matplotlib.pyplot as plt"
   ]
  },
  {
   "cell_type": "markdown",
   "id": "658e4165-4db7-40b3-a0eb-d5db5a341371",
   "metadata": {},
   "source": [
    "## Initialisation"
   ]
  },
  {
   "cell_type": "code",
   "execution_count": 2,
   "id": "eda393ba-c078-4463-8c7a-c7f28c37b240",
   "metadata": {},
   "outputs": [],
   "source": [
    "seed_val = 42\n",
    "random.seed(seed_val)\n",
    "np.random.seed(seed_val)\n",
    "torch.manual_seed(seed_val)\n",
    "torch.cuda.manual_seed_all(seed_val)\n",
    "min_max_scaler = MinMaxScaler()\n",
    "#torch.use_deterministic_algorithms(True)"
   ]
  },
  {
   "cell_type": "markdown",
   "id": "41260c8b-1aab-42f4-9079-9713f12f59c6",
   "metadata": {},
   "source": [
    "## Load Data "
   ]
  },
  {
   "cell_type": "code",
   "execution_count": 3,
   "id": "3d2a10d6-f741-44a0-ba22-89af1558396d",
   "metadata": {},
   "outputs": [],
   "source": [
    "X_train = pd.read_csv('../Data/training_set.tsv', sep='\\t', encoding='utf-8', engine='python')\n",
    "X_test =  pd.read_csv('../Data/test_set.tsv', sep='\\t', encoding='utf-8', engine='python')"
   ]
  },
  {
   "cell_type": "code",
   "execution_count": 4,
   "id": "992aab12-c458-4733-a2d1-b6588ce148fe",
   "metadata": {},
   "outputs": [],
   "source": [
    "X_train_features = pd.read_csv('../Data/cleaned_features_selected.tsv', sep='\\t', encoding='utf-8', engine='python')\n",
    "X_test_features = pd.read_csv('../Data/test_set_full.tsv', sep='\\t', encoding='utf-8', engine='python')"
   ]
  },
  {
   "cell_type": "markdown",
   "id": "19027578-42e5-4083-8b47-97eff8a5d33a",
   "metadata": {},
   "source": [
    "## Prepare Labels "
   ]
  },
  {
   "cell_type": "code",
   "execution_count": 5,
   "id": "ca5cb439-9eaf-49a5-90bb-2c1d7056620e",
   "metadata": {},
   "outputs": [],
   "source": [
    "# Split data into train and test sets\n",
    "y_train = X_train['author']\n",
    "y_test = X_test['label']"
   ]
  },
  {
   "cell_type": "markdown",
   "id": "e76a6bf9-bbb5-48ff-b01a-5aba5898e8d6",
   "metadata": {},
   "source": [
    "## BERT Embeddings with mean pooling"
   ]
  },
  {
   "cell_type": "code",
   "execution_count": 6,
   "id": "3b87d5dc-7dba-4a9e-8cfb-0c5864573353",
   "metadata": {},
   "outputs": [],
   "source": [
    "# Load BERT model\n",
    "# with pooling \n",
    "word_embedding_model = models.Transformer(\"dbmdz/bert-base-german-uncased\", max_seq_length=256)   #>256 not recommended: https://stackoverflow.com/questions/75901231/max-seq-length-for-transformer-sentence-bert\n",
    "pooling_model = models.Pooling(word_embedding_dimension = word_embedding_model.get_word_embedding_dimension(), pooling_mode='mean')\n",
    "model = SentenceTransformer(modules=[word_embedding_model, pooling_model])"
   ]
  },
  {
   "cell_type": "code",
   "execution_count": 7,
   "id": "a18a2911-e67c-4a9c-aea1-c5fb8a358af0",
   "metadata": {},
   "outputs": [
    {
     "name": "stderr",
     "output_type": "stream",
     "text": [
      "Batches: 100%|████████████████████████████████████████████████████████████████████████| 496/496 [00:18<00:00, 26.52it/s]\n",
      "Batches: 100%|████████████████████████████████████████████████████████████████████████| 100/100 [00:03<00:00, 30.92it/s]\n"
     ]
    }
   ],
   "source": [
    "# Encode sentences\n",
    "X_train_embeddings = model.encode(X_train['text_light_clean'].values, show_progress_bar=True)\n",
    "X_test_embeddings = model.encode(X_test['text_light_clean'].values, show_progress_bar= True)"
   ]
  },
  {
   "cell_type": "code",
   "execution_count": 8,
   "id": "d78dff2a-288c-4450-ae72-c8ab8bb92817",
   "metadata": {},
   "outputs": [
    {
     "name": "stdout",
     "output_type": "stream",
     "text": [
      "Shape Train: (15861, 768)\n",
      "##################\n",
      "Shape Test: (3197, 768)\n"
     ]
    }
   ],
   "source": [
    "print(f'Shape Train: {X_train_embeddings.shape}')\n",
    "print('##################')\n",
    "print(f'Shape Test: {X_test_embeddings.shape}')"
   ]
  },
  {
   "cell_type": "markdown",
   "id": "256545ef-7d28-4ff4-95a5-640a692afe4f",
   "metadata": {},
   "source": [
    "## Adding the stylometric features to mean pooling"
   ]
  },
  {
   "cell_type": "code",
   "execution_count": 9,
   "id": "f0ad0bd3-0c1d-4ede-bd11-4f4d31f9cd4b",
   "metadata": {},
   "outputs": [
    {
     "data": {
      "text/plain": [
       "(15861, 53)"
      ]
     },
     "execution_count": 9,
     "metadata": {},
     "output_type": "execute_result"
    }
   ],
   "source": [
    "X_train_stylo = X_train_features.drop(['index', 'text', 'label', 'cleaned_text'], axis=1)\n",
    "X_train_stylo.shape"
   ]
  },
  {
   "cell_type": "code",
   "execution_count": 10,
   "id": "3863201f-0e99-4bd1-98cc-77f600b136c9",
   "metadata": {},
   "outputs": [
    {
     "data": {
      "text/plain": [
       "(3197, 53)"
      ]
     },
     "execution_count": 10,
     "metadata": {},
     "output_type": "execute_result"
    }
   ],
   "source": [
    "X_test_stylo = X_test_features.drop(['index','text','label'], axis=1)\n",
    "X_test_stylo.shape"
   ]
  },
  {
   "cell_type": "code",
   "execution_count": 11,
   "id": "bf5c600c-496a-4ac4-a566-597193456af1",
   "metadata": {},
   "outputs": [],
   "source": [
    "X_train_stylo = X_train_stylo.to_numpy()\n",
    "X_test_stylo = X_test_stylo.to_numpy()"
   ]
  },
  {
   "cell_type": "code",
   "execution_count": 12,
   "id": "587bcbc1-655b-49de-a965-0b347ed3d5ca",
   "metadata": {},
   "outputs": [
    {
     "data": {
      "text/plain": [
       "(15861, 821)"
      ]
     },
     "execution_count": 12,
     "metadata": {},
     "output_type": "execute_result"
    }
   ],
   "source": [
    "X_ges_train = np.hstack([X_train_embeddings, X_train_stylo])\n",
    "X_train = X_ges_train\n",
    "X_train.shape"
   ]
  },
  {
   "cell_type": "code",
   "execution_count": 13,
   "id": "b4e65a25-9d13-4222-8070-56ea6579f201",
   "metadata": {},
   "outputs": [
    {
     "data": {
      "text/plain": [
       "(3197, 821)"
      ]
     },
     "execution_count": 13,
     "metadata": {},
     "output_type": "execute_result"
    }
   ],
   "source": [
    "X_ges_test = np.hstack([X_test_embeddings, X_test_stylo])\n",
    "X_test = X_ges_test\n",
    "X_test.shape"
   ]
  },
  {
   "cell_type": "markdown",
   "id": "d981c655-da8c-4abd-82a7-d30d9bb740a2",
   "metadata": {},
   "source": [
    "### Normalise the input data points "
   ]
  },
  {
   "cell_type": "code",
   "execution_count": 14,
   "id": "0d96cd24-313a-42d3-895f-1ede390743d3",
   "metadata": {},
   "outputs": [],
   "source": [
    "X_train_scaled = min_max_scaler.fit_transform(X_train)"
   ]
  },
  {
   "cell_type": "code",
   "execution_count": 15,
   "id": "cda57500-0c15-46e6-b490-cbf2840a06d8",
   "metadata": {},
   "outputs": [],
   "source": [
    "y_train = y_train.values"
   ]
  },
  {
   "cell_type": "code",
   "execution_count": 16,
   "id": "9806669c-1909-4554-a4e3-162a011faef3",
   "metadata": {},
   "outputs": [],
   "source": [
    "X_test_scaled = min_max_scaler.transform(X_test)"
   ]
  },
  {
   "cell_type": "code",
   "execution_count": 17,
   "id": "0c4ef67c-5823-4f0c-9001-d0257e708e9b",
   "metadata": {},
   "outputs": [],
   "source": [
    "y_test = y_test.values"
   ]
  },
  {
   "cell_type": "markdown",
   "id": "60ca346a-c151-47ae-bcab-0cb96e2e21c5",
   "metadata": {},
   "source": [
    "### Data for MLP "
   ]
  },
  {
   "cell_type": "code",
   "execution_count": 18,
   "id": "4fd8d893-6c7d-49c6-8049-036a51bbae05",
   "metadata": {},
   "outputs": [],
   "source": [
    "# Train Test-Split \n",
    "X_train, X_val, y_train, y_val = train_test_split(X_train_scaled, y_train, test_size=0.2, random_state=42, stratify=y_train)"
   ]
  },
  {
   "cell_type": "code",
   "execution_count": 19,
   "id": "933b349e-4727-4986-b689-f5bf84cb3cc2",
   "metadata": {},
   "outputs": [
    {
     "data": {
      "text/plain": [
       "(12688, 821)"
      ]
     },
     "execution_count": 19,
     "metadata": {},
     "output_type": "execute_result"
    }
   ],
   "source": [
    "X_train.shape"
   ]
  },
  {
   "cell_type": "code",
   "execution_count": 20,
   "id": "a7fc9ebd-1e72-4e9a-84fe-b4cf1b7ddf8e",
   "metadata": {},
   "outputs": [
    {
     "data": {
      "text/plain": [
       "(3173, 821)"
      ]
     },
     "execution_count": 20,
     "metadata": {},
     "output_type": "execute_result"
    }
   ],
   "source": [
    "X_val.shape"
   ]
  },
  {
   "cell_type": "code",
   "execution_count": 21,
   "id": "21a935c5-6964-48b7-99bb-1c2cf463e169",
   "metadata": {},
   "outputs": [],
   "source": [
    "X_train_tensor = torch.from_numpy(X_train)\n",
    "X_val_tensor = torch.from_numpy(X_val)"
   ]
  },
  {
   "cell_type": "code",
   "execution_count": 22,
   "id": "54f98794-9cd0-4d9d-9773-e3402b442a2e",
   "metadata": {},
   "outputs": [],
   "source": [
    "X_train_tensor = X_train_tensor.float()\n",
    "X_val_tensor = X_val_tensor.float()"
   ]
  },
  {
   "cell_type": "code",
   "execution_count": 23,
   "id": "b4428857-4173-4122-84f4-b3570537bdd2",
   "metadata": {},
   "outputs": [],
   "source": [
    "y_train_tensor = torch.from_numpy(y_train)\n",
    "y_val_tensor = torch.from_numpy(y_val)"
   ]
  },
  {
   "cell_type": "code",
   "execution_count": 24,
   "id": "f51daac5-7b22-4117-8c09-93d42dce872f",
   "metadata": {},
   "outputs": [],
   "source": [
    "batch_size = 64"
   ]
  },
  {
   "cell_type": "code",
   "execution_count": 25,
   "id": "4ee92895-1ab3-47cf-84be-922bf1d0aca2",
   "metadata": {},
   "outputs": [],
   "source": [
    "#### Reproducibility - Dataloader "
   ]
  },
  {
   "cell_type": "code",
   "execution_count": 26,
   "id": "c54fc252-74af-4f62-8266-27fdbd8e0454",
   "metadata": {},
   "outputs": [],
   "source": [
    "def seed_worker(worker_id):\n",
    "    worker_seed = torch.initial_seed() % 2**32\n",
    "    numpy.random.seed(worker_seed)\n",
    "    random.seed(worker_seed)"
   ]
  },
  {
   "cell_type": "code",
   "execution_count": 27,
   "id": "6b509550-fa5e-450c-8009-f592555d5d83",
   "metadata": {},
   "outputs": [
    {
     "data": {
      "text/plain": [
       "<torch._C.Generator at 0x7f79daaba550>"
      ]
     },
     "execution_count": 27,
     "metadata": {},
     "output_type": "execute_result"
    }
   ],
   "source": [
    "g = torch.Generator()\n",
    "g.manual_seed(0)"
   ]
  },
  {
   "cell_type": "code",
   "execution_count": 28,
   "id": "eb6c8dfa-3ec3-4063-b5cf-872006c47b81",
   "metadata": {},
   "outputs": [],
   "source": [
    "train_dataloader = torch.utils.data.DataLoader(\n",
    "    torch.utils.data.TensorDataset(X_train_tensor, y_train_tensor),\n",
    "    batch_size=batch_size,\n",
    "    shuffle=True,\n",
    "    worker_init_fn=seed_worker,\n",
    "    generator=g,\n",
    ")\n",
    "eval_dataloader = torch.utils.data.DataLoader(\n",
    "    torch.utils.data.TensorDataset(X_val_tensor, y_val_tensor),\n",
    "    batch_size=batch_size,\n",
    "    worker_init_fn=seed_worker,\n",
    "    generator=g,\n",
    ")"
   ]
  },
  {
   "cell_type": "code",
   "execution_count": 29,
   "id": "17488a31-9681-4383-8d83-793d8356be46",
   "metadata": {},
   "outputs": [],
   "source": [
    "# Testdata \n",
    "X_test_tensor = torch.from_numpy(X_test_scaled)\n",
    "X_test_tensor = X_test_tensor.float()\n",
    "y_test_tensor = torch.from_numpy(y_test)"
   ]
  },
  {
   "cell_type": "code",
   "execution_count": 30,
   "id": "538833c3-1872-4ab6-8cfa-8086a4a8f305",
   "metadata": {},
   "outputs": [],
   "source": [
    "test_dataloader = torch.utils.data.DataLoader(\n",
    "    torch.utils.data.TensorDataset(X_test_tensor, y_test_tensor),\n",
    "    batch_size=batch_size,\n",
    "    worker_init_fn=seed_worker,\n",
    "    generator=g,\n",
    ")"
   ]
  },
  {
   "cell_type": "markdown",
   "id": "53177fc0-4772-49e8-95ff-1691c76aacd8",
   "metadata": {},
   "source": [
    "### Simple MLP"
   ]
  },
  {
   "cell_type": "code",
   "execution_count": 31,
   "id": "ddb3349a-267d-4706-ba27-7a42c39013e5",
   "metadata": {},
   "outputs": [],
   "source": [
    "class MLP(nn.Module):\n",
    "    def __init__(self, input_size=821, num_units_hidden=824, dropout_prob=0.5): # num_units_hidden = n+m+2 = 824\n",
    "        super().__init__()\n",
    "        self.seq = nn.Sequential(\n",
    "            nn.Linear(input_size, num_units_hidden),\n",
    "            nn.ReLU(),  \n",
    "            nn.Dropout(dropout_prob),\n",
    "            nn.Linear(num_units_hidden, 2),\n",
    "            nn.LogSoftmax(dim=-1),\n",
    "        )\n",
    "        self.weight_decay = weight_decay\n",
    "\n",
    "    def forward(self, X):\n",
    "        return self.seq(X)"
   ]
  },
  {
   "cell_type": "code",
   "execution_count": 32,
   "id": "d0695ec2-d156-4bfb-9374-4da6d143859c",
   "metadata": {},
   "outputs": [],
   "source": [
    "# Early Stopping from https://stackoverflow.com/questions/71998978/early-stopping-in-pytorch/71999355#71999355 \n",
    "class EarlyStopper:\n",
    "    def __init__(self, patience=1, min_delta=0):\n",
    "        self.patience = patience\n",
    "        self.min_delta = min_delta\n",
    "        self.counter = 0\n",
    "        self.min_validation_loss = float('inf')\n",
    "\n",
    "    def early_stop(self, validation_loss):\n",
    "        if validation_loss < self.min_validation_loss:\n",
    "            self.min_validation_loss = validation_loss\n",
    "            self.counter = 0\n",
    "        elif validation_loss > (self.min_validation_loss + self.min_delta):\n",
    "            self.counter += 1\n",
    "            if self.counter >= self.patience:\n",
    "                return True\n",
    "        return False"
   ]
  },
  {
   "cell_type": "markdown",
   "id": "451f9b4a-dc81-492c-94bf-f018125d5217",
   "metadata": {},
   "source": [
    "### Training"
   ]
  },
  {
   "cell_type": "code",
   "execution_count": 33,
   "id": "f036a6a8-4453-4242-a6f3-dfab3c364749",
   "metadata": {},
   "outputs": [],
   "source": [
    "lr = 0.00001 \n",
    "batch_size = 64\n",
    "max_epochs = 200\n",
    "weight_decay = 0.1\n",
    "device = \"cpu\" if not torch.cuda.is_available() else \"cuda\"\n",
    "torch.cuda.manual_seed_all(seed_val)"
   ]
  },
  {
   "cell_type": "code",
   "execution_count": 34,
   "id": "33f303e5-123f-485b-a5a4-d5e7d90e2efa",
   "metadata": {},
   "outputs": [],
   "source": [
    "def train(model, optimizer, criterion, train_dataloader, eval_dataloader, epochs, patience=10, save_path='./MLP_big/best-model-parameters.pt'): # change Path\n",
    "    early_stopper = EarlyStopper(patience=patience, min_delta=0) \n",
    "    train_losses = []\n",
    "    eval_losses = []\n",
    "    for epoch in range(epochs):\n",
    "        model.train()\n",
    "        train_loss = 0\n",
    "        for xb, yb in train_dataloader:\n",
    "            xb = xb.to(device)\n",
    "            yb = yb.to(device)\n",
    "            outputs = model(xb)\n",
    "            loss = criterion(outputs, yb)\n",
    "            train_loss += loss.detach().item()\n",
    "            loss.backward()\n",
    "            optimizer.step()\n",
    "            optimizer.zero_grad()\n",
    "\n",
    "        model.eval()\n",
    "        eval_loss = 0\n",
    "        y_true = []\n",
    "        y_pred = []\n",
    "        for xb, yb in eval_dataloader:\n",
    "            xb = xb.to(device)\n",
    "            yb = yb.to(device)\n",
    "            with torch.no_grad():\n",
    "                outputs = model(xb)\n",
    "                loss = criterion(outputs, yb)\n",
    "                eval_loss += loss.detach().item()\n",
    "\n",
    "                _, predicted = torch.max(outputs, 1)\n",
    "                y_true.extend(yb.cpu().numpy())\n",
    "                y_pred.extend(predicted.cpu().numpy())\n",
    "\n",
    "        eval_loss_total = eval_loss / len(eval_dataloader)\n",
    "        train_loss_total = train_loss / len(train_dataloader)\n",
    "        \n",
    "        train_losses.append(train_loss_total)  \n",
    "        eval_losses.append(eval_loss_total)            \n",
    "        f1 = f1_score(y_true, y_pred)\n",
    "        \n",
    "        print(f\"Epoch: {epoch+1}/{epochs}, Train Loss: {train_loss_total:.4f}, Eval Loss: {eval_loss_total:.4f}, F1 Score: {f1:.4f}\")\n",
    "\n",
    "        # Early stopping check\n",
    "        if early_stopper.early_stop(eval_loss_total):\n",
    "            print(f\"No improvement for {patience} epochs. Early stopping...\")\n",
    "            torch.save(model.state_dict(), save_path)\n",
    "            print(f'Model saved to {save_path}')\n",
    "            break\n",
    "\n",
    "    torch.save(model.state_dict(), save_path)\n",
    "    print(f'Model saved to {save_path}')\n",
    "    # Plotting\n",
    "    plt.plot(train_losses, label='Train Loss')\n",
    "    plt.plot(eval_losses, label='Validation Loss')\n",
    "    plt.xlabel('Epoch')\n",
    "    plt.ylabel('Loss')\n",
    "    plt.title('Training and Validation Loss')\n",
    "    plt.legend()\n",
    "    plt.show()\n",
    "\n",
    "    return model\n"
   ]
  },
  {
   "cell_type": "code",
   "execution_count": 35,
   "id": "4050bf33-7ed7-41a5-970a-d05a138ba992",
   "metadata": {},
   "outputs": [],
   "source": [
    "module = MLP().to(device)\n",
    "optimizer = torch.optim.AdamW(module.parameters(), lr=lr, weight_decay=weight_decay)\n",
    "criterion = nn.NLLLoss() #because of Logsoftmax "
   ]
  },
  {
   "cell_type": "code",
   "execution_count": 36,
   "id": "dad68d26-367b-4130-be45-18c94f24e355",
   "metadata": {},
   "outputs": [
    {
     "name": "stdout",
     "output_type": "stream",
     "text": [
      "Epoch: 1/200, Train Loss: 0.6715, Eval Loss: 0.6502, F1 Score: 0.8147\n",
      "Epoch: 2/200, Train Loss: 0.6346, Eval Loss: 0.6170, F1 Score: 0.8374\n",
      "Epoch: 3/200, Train Loss: 0.6003, Eval Loss: 0.5803, F1 Score: 0.8495\n",
      "Epoch: 4/200, Train Loss: 0.5636, Eval Loss: 0.5429, F1 Score: 0.8921\n",
      "Epoch: 5/200, Train Loss: 0.5258, Eval Loss: 0.5062, F1 Score: 0.8777\n",
      "Epoch: 6/200, Train Loss: 0.4911, Eval Loss: 0.4704, F1 Score: 0.8981\n",
      "Epoch: 7/200, Train Loss: 0.4568, Eval Loss: 0.4384, F1 Score: 0.8915\n",
      "Epoch: 8/200, Train Loss: 0.4258, Eval Loss: 0.4087, F1 Score: 0.8965\n",
      "Epoch: 9/200, Train Loss: 0.3982, Eval Loss: 0.3824, F1 Score: 0.9044\n",
      "Epoch: 10/200, Train Loss: 0.3742, Eval Loss: 0.3597, F1 Score: 0.9070\n",
      "Epoch: 11/200, Train Loss: 0.3533, Eval Loss: 0.3402, F1 Score: 0.9102\n",
      "Epoch: 12/200, Train Loss: 0.3347, Eval Loss: 0.3214, F1 Score: 0.9072\n",
      "Epoch: 13/200, Train Loss: 0.3180, Eval Loss: 0.3064, F1 Score: 0.9082\n",
      "Epoch: 14/200, Train Loss: 0.3043, Eval Loss: 0.2924, F1 Score: 0.9135\n",
      "Epoch: 15/200, Train Loss: 0.2901, Eval Loss: 0.2797, F1 Score: 0.9184\n",
      "Epoch: 16/200, Train Loss: 0.2807, Eval Loss: 0.2715, F1 Score: 0.9080\n",
      "Epoch: 17/200, Train Loss: 0.2703, Eval Loss: 0.2593, F1 Score: 0.9177\n",
      "Epoch: 18/200, Train Loss: 0.2633, Eval Loss: 0.2508, F1 Score: 0.9199\n",
      "Epoch: 19/200, Train Loss: 0.2548, Eval Loss: 0.2432, F1 Score: 0.9204\n",
      "Epoch: 20/200, Train Loss: 0.2452, Eval Loss: 0.2377, F1 Score: 0.9224\n",
      "Epoch: 21/200, Train Loss: 0.2387, Eval Loss: 0.2325, F1 Score: 0.9186\n",
      "Epoch: 22/200, Train Loss: 0.2341, Eval Loss: 0.2245, F1 Score: 0.9250\n",
      "Epoch: 23/200, Train Loss: 0.2262, Eval Loss: 0.2180, F1 Score: 0.9267\n",
      "Epoch: 24/200, Train Loss: 0.2224, Eval Loss: 0.2163, F1 Score: 0.9228\n",
      "Epoch: 25/200, Train Loss: 0.2177, Eval Loss: 0.2091, F1 Score: 0.9274\n",
      "Epoch: 26/200, Train Loss: 0.2149, Eval Loss: 0.2051, F1 Score: 0.9312\n",
      "Epoch: 27/200, Train Loss: 0.2085, Eval Loss: 0.2005, F1 Score: 0.9300\n",
      "Epoch: 28/200, Train Loss: 0.2068, Eval Loss: 0.1974, F1 Score: 0.9322\n",
      "Epoch: 29/200, Train Loss: 0.2039, Eval Loss: 0.1932, F1 Score: 0.9334\n",
      "Epoch: 30/200, Train Loss: 0.1982, Eval Loss: 0.1900, F1 Score: 0.9335\n",
      "Epoch: 31/200, Train Loss: 0.1952, Eval Loss: 0.1874, F1 Score: 0.9325\n",
      "Epoch: 32/200, Train Loss: 0.1947, Eval Loss: 0.1859, F1 Score: 0.9330\n",
      "Epoch: 33/200, Train Loss: 0.1909, Eval Loss: 0.1827, F1 Score: 0.9371\n",
      "Epoch: 34/200, Train Loss: 0.1885, Eval Loss: 0.1796, F1 Score: 0.9362\n",
      "Epoch: 35/200, Train Loss: 0.1843, Eval Loss: 0.1764, F1 Score: 0.9371\n",
      "Epoch: 36/200, Train Loss: 0.1832, Eval Loss: 0.1736, F1 Score: 0.9398\n",
      "Epoch: 37/200, Train Loss: 0.1799, Eval Loss: 0.1719, F1 Score: 0.9405\n",
      "Epoch: 38/200, Train Loss: 0.1790, Eval Loss: 0.1692, F1 Score: 0.9415\n",
      "Epoch: 39/200, Train Loss: 0.1761, Eval Loss: 0.1705, F1 Score: 0.9384\n",
      "Epoch: 40/200, Train Loss: 0.1740, Eval Loss: 0.1650, F1 Score: 0.9421\n",
      "Epoch: 41/200, Train Loss: 0.1727, Eval Loss: 0.1635, F1 Score: 0.9421\n",
      "Epoch: 42/200, Train Loss: 0.1717, Eval Loss: 0.1618, F1 Score: 0.9417\n",
      "Epoch: 43/200, Train Loss: 0.1700, Eval Loss: 0.1600, F1 Score: 0.9430\n",
      "Epoch: 44/200, Train Loss: 0.1663, Eval Loss: 0.1591, F1 Score: 0.9446\n",
      "Epoch: 45/200, Train Loss: 0.1646, Eval Loss: 0.1576, F1 Score: 0.9436\n",
      "Epoch: 46/200, Train Loss: 0.1644, Eval Loss: 0.1555, F1 Score: 0.9447\n",
      "Epoch: 47/200, Train Loss: 0.1626, Eval Loss: 0.1535, F1 Score: 0.9465\n",
      "Epoch: 48/200, Train Loss: 0.1611, Eval Loss: 0.1575, F1 Score: 0.9433\n",
      "Epoch: 49/200, Train Loss: 0.1586, Eval Loss: 0.1511, F1 Score: 0.9482\n",
      "Epoch: 50/200, Train Loss: 0.1583, Eval Loss: 0.1498, F1 Score: 0.9491\n",
      "Epoch: 51/200, Train Loss: 0.1567, Eval Loss: 0.1482, F1 Score: 0.9491\n",
      "Epoch: 52/200, Train Loss: 0.1543, Eval Loss: 0.1485, F1 Score: 0.9479\n",
      "Epoch: 53/200, Train Loss: 0.1546, Eval Loss: 0.1463, F1 Score: 0.9503\n",
      "Epoch: 54/200, Train Loss: 0.1534, Eval Loss: 0.1445, F1 Score: 0.9503\n",
      "Epoch: 55/200, Train Loss: 0.1518, Eval Loss: 0.1434, F1 Score: 0.9523\n",
      "Epoch: 56/200, Train Loss: 0.1499, Eval Loss: 0.1422, F1 Score: 0.9518\n",
      "Epoch: 57/200, Train Loss: 0.1482, Eval Loss: 0.1413, F1 Score: 0.9511\n",
      "Epoch: 58/200, Train Loss: 0.1489, Eval Loss: 0.1417, F1 Score: 0.9508\n",
      "Epoch: 59/200, Train Loss: 0.1470, Eval Loss: 0.1409, F1 Score: 0.9503\n",
      "Epoch: 60/200, Train Loss: 0.1461, Eval Loss: 0.1381, F1 Score: 0.9538\n",
      "Epoch: 61/200, Train Loss: 0.1449, Eval Loss: 0.1376, F1 Score: 0.9523\n",
      "Epoch: 62/200, Train Loss: 0.1439, Eval Loss: 0.1363, F1 Score: 0.9545\n",
      "Epoch: 63/200, Train Loss: 0.1432, Eval Loss: 0.1366, F1 Score: 0.9517\n",
      "Epoch: 64/200, Train Loss: 0.1417, Eval Loss: 0.1347, F1 Score: 0.9532\n",
      "Epoch: 65/200, Train Loss: 0.1411, Eval Loss: 0.1337, F1 Score: 0.9552\n",
      "Epoch: 66/200, Train Loss: 0.1405, Eval Loss: 0.1337, F1 Score: 0.9546\n",
      "Epoch: 67/200, Train Loss: 0.1396, Eval Loss: 0.1321, F1 Score: 0.9551\n",
      "Epoch: 68/200, Train Loss: 0.1387, Eval Loss: 0.1310, F1 Score: 0.9554\n",
      "Epoch: 69/200, Train Loss: 0.1365, Eval Loss: 0.1313, F1 Score: 0.9541\n",
      "Epoch: 70/200, Train Loss: 0.1368, Eval Loss: 0.1290, F1 Score: 0.9571\n",
      "Epoch: 71/200, Train Loss: 0.1361, Eval Loss: 0.1297, F1 Score: 0.9571\n",
      "Epoch: 72/200, Train Loss: 0.1351, Eval Loss: 0.1276, F1 Score: 0.9576\n",
      "Epoch: 73/200, Train Loss: 0.1349, Eval Loss: 0.1295, F1 Score: 0.9573\n",
      "Epoch: 74/200, Train Loss: 0.1329, Eval Loss: 0.1263, F1 Score: 0.9580\n",
      "Epoch: 75/200, Train Loss: 0.1325, Eval Loss: 0.1259, F1 Score: 0.9582\n",
      "Epoch: 76/200, Train Loss: 0.1315, Eval Loss: 0.1247, F1 Score: 0.9593\n",
      "Epoch: 77/200, Train Loss: 0.1326, Eval Loss: 0.1250, F1 Score: 0.9597\n",
      "Epoch: 78/200, Train Loss: 0.1308, Eval Loss: 0.1236, F1 Score: 0.9589\n",
      "Epoch: 79/200, Train Loss: 0.1307, Eval Loss: 0.1239, F1 Score: 0.9596\n",
      "Epoch: 80/200, Train Loss: 0.1307, Eval Loss: 0.1227, F1 Score: 0.9587\n",
      "Epoch: 81/200, Train Loss: 0.1292, Eval Loss: 0.1224, F1 Score: 0.9600\n",
      "Epoch: 82/200, Train Loss: 0.1277, Eval Loss: 0.1229, F1 Score: 0.9583\n",
      "Epoch: 83/200, Train Loss: 0.1275, Eval Loss: 0.1207, F1 Score: 0.9587\n",
      "Epoch: 84/200, Train Loss: 0.1279, Eval Loss: 0.1224, F1 Score: 0.9559\n",
      "Epoch: 85/200, Train Loss: 0.1269, Eval Loss: 0.1221, F1 Score: 0.9563\n",
      "Epoch: 86/200, Train Loss: 0.1261, Eval Loss: 0.1211, F1 Score: 0.9586\n",
      "Epoch: 87/200, Train Loss: 0.1266, Eval Loss: 0.1229, F1 Score: 0.9568\n",
      "Epoch: 88/200, Train Loss: 0.1231, Eval Loss: 0.1237, F1 Score: 0.9561\n",
      "Epoch: 89/200, Train Loss: 0.1247, Eval Loss: 0.1173, F1 Score: 0.9617\n",
      "Epoch: 90/200, Train Loss: 0.1228, Eval Loss: 0.1215, F1 Score: 0.9571\n",
      "Epoch: 91/200, Train Loss: 0.1234, Eval Loss: 0.1166, F1 Score: 0.9616\n",
      "Epoch: 92/200, Train Loss: 0.1238, Eval Loss: 0.1163, F1 Score: 0.9616\n",
      "Epoch: 93/200, Train Loss: 0.1225, Eval Loss: 0.1153, F1 Score: 0.9614\n",
      "Epoch: 94/200, Train Loss: 0.1216, Eval Loss: 0.1150, F1 Score: 0.9611\n",
      "Epoch: 95/200, Train Loss: 0.1218, Eval Loss: 0.1144, F1 Score: 0.9617\n",
      "Epoch: 96/200, Train Loss: 0.1201, Eval Loss: 0.1146, F1 Score: 0.9609\n",
      "Epoch: 97/200, Train Loss: 0.1208, Eval Loss: 0.1138, F1 Score: 0.9619\n",
      "Epoch: 98/200, Train Loss: 0.1195, Eval Loss: 0.1134, F1 Score: 0.9616\n",
      "Epoch: 99/200, Train Loss: 0.1183, Eval Loss: 0.1125, F1 Score: 0.9626\n",
      "Epoch: 100/200, Train Loss: 0.1184, Eval Loss: 0.1125, F1 Score: 0.9618\n",
      "Epoch: 101/200, Train Loss: 0.1192, Eval Loss: 0.1143, F1 Score: 0.9601\n",
      "Epoch: 102/200, Train Loss: 0.1174, Eval Loss: 0.1113, F1 Score: 0.9612\n",
      "Epoch: 103/200, Train Loss: 0.1181, Eval Loss: 0.1113, F1 Score: 0.9628\n",
      "Epoch: 104/200, Train Loss: 0.1175, Eval Loss: 0.1107, F1 Score: 0.9625\n",
      "Epoch: 105/200, Train Loss: 0.1166, Eval Loss: 0.1100, F1 Score: 0.9630\n",
      "Epoch: 106/200, Train Loss: 0.1167, Eval Loss: 0.1147, F1 Score: 0.9590\n",
      "Epoch: 107/200, Train Loss: 0.1165, Eval Loss: 0.1129, F1 Score: 0.9597\n",
      "Epoch: 108/200, Train Loss: 0.1150, Eval Loss: 0.1091, F1 Score: 0.9618\n",
      "Epoch: 109/200, Train Loss: 0.1148, Eval Loss: 0.1086, F1 Score: 0.9624\n",
      "Epoch: 110/200, Train Loss: 0.1148, Eval Loss: 0.1081, F1 Score: 0.9624\n",
      "Epoch: 111/200, Train Loss: 0.1127, Eval Loss: 0.1079, F1 Score: 0.9624\n",
      "Epoch: 112/200, Train Loss: 0.1133, Eval Loss: 0.1079, F1 Score: 0.9634\n",
      "Epoch: 113/200, Train Loss: 0.1124, Eval Loss: 0.1071, F1 Score: 0.9638\n",
      "Epoch: 114/200, Train Loss: 0.1131, Eval Loss: 0.1067, F1 Score: 0.9636\n",
      "Epoch: 115/200, Train Loss: 0.1115, Eval Loss: 0.1063, F1 Score: 0.9636\n",
      "Epoch: 116/200, Train Loss: 0.1122, Eval Loss: 0.1110, F1 Score: 0.9594\n",
      "Epoch: 117/200, Train Loss: 0.1114, Eval Loss: 0.1058, F1 Score: 0.9635\n",
      "Epoch: 118/200, Train Loss: 0.1108, Eval Loss: 0.1054, F1 Score: 0.9627\n",
      "Epoch: 119/200, Train Loss: 0.1113, Eval Loss: 0.1051, F1 Score: 0.9633\n",
      "Epoch: 120/200, Train Loss: 0.1108, Eval Loss: 0.1112, F1 Score: 0.9605\n",
      "Epoch: 121/200, Train Loss: 0.1108, Eval Loss: 0.1046, F1 Score: 0.9638\n",
      "Epoch: 122/200, Train Loss: 0.1095, Eval Loss: 0.1044, F1 Score: 0.9638\n",
      "Epoch: 123/200, Train Loss: 0.1092, Eval Loss: 0.1066, F1 Score: 0.9620\n",
      "Epoch: 124/200, Train Loss: 0.1087, Eval Loss: 0.1052, F1 Score: 0.9635\n",
      "Epoch: 125/200, Train Loss: 0.1088, Eval Loss: 0.1040, F1 Score: 0.9637\n",
      "Epoch: 126/200, Train Loss: 0.1096, Eval Loss: 0.1034, F1 Score: 0.9637\n",
      "Epoch: 127/200, Train Loss: 0.1077, Eval Loss: 0.1073, F1 Score: 0.9626\n",
      "Epoch: 128/200, Train Loss: 0.1081, Eval Loss: 0.1041, F1 Score: 0.9633\n",
      "Epoch: 129/200, Train Loss: 0.1081, Eval Loss: 0.1024, F1 Score: 0.9636\n",
      "Epoch: 130/200, Train Loss: 0.1072, Eval Loss: 0.1022, F1 Score: 0.9635\n",
      "Epoch: 131/200, Train Loss: 0.1069, Eval Loss: 0.1016, F1 Score: 0.9636\n",
      "Epoch: 132/200, Train Loss: 0.1063, Eval Loss: 0.1017, F1 Score: 0.9635\n",
      "Epoch: 133/200, Train Loss: 0.1080, Eval Loss: 0.1014, F1 Score: 0.9638\n",
      "Epoch: 134/200, Train Loss: 0.1064, Eval Loss: 0.1018, F1 Score: 0.9640\n",
      "Epoch: 135/200, Train Loss: 0.1067, Eval Loss: 0.1015, F1 Score: 0.9640\n",
      "Epoch: 136/200, Train Loss: 0.1060, Eval Loss: 0.1050, F1 Score: 0.9618\n",
      "Epoch: 137/200, Train Loss: 0.1048, Eval Loss: 0.1003, F1 Score: 0.9632\n",
      "Epoch: 138/200, Train Loss: 0.1049, Eval Loss: 0.1000, F1 Score: 0.9645\n",
      "Epoch: 139/200, Train Loss: 0.1049, Eval Loss: 0.1012, F1 Score: 0.9643\n",
      "Epoch: 140/200, Train Loss: 0.1041, Eval Loss: 0.0994, F1 Score: 0.9645\n",
      "Epoch: 141/200, Train Loss: 0.1047, Eval Loss: 0.0992, F1 Score: 0.9642\n",
      "Epoch: 142/200, Train Loss: 0.1033, Eval Loss: 0.1012, F1 Score: 0.9645\n",
      "Epoch: 143/200, Train Loss: 0.1034, Eval Loss: 0.0988, F1 Score: 0.9638\n",
      "Epoch: 144/200, Train Loss: 0.1032, Eval Loss: 0.0992, F1 Score: 0.9643\n",
      "Epoch: 145/200, Train Loss: 0.1035, Eval Loss: 0.0982, F1 Score: 0.9645\n",
      "Epoch: 146/200, Train Loss: 0.1036, Eval Loss: 0.0982, F1 Score: 0.9638\n",
      "Epoch: 147/200, Train Loss: 0.1031, Eval Loss: 0.0981, F1 Score: 0.9639\n",
      "Epoch: 148/200, Train Loss: 0.1024, Eval Loss: 0.0978, F1 Score: 0.9638\n",
      "Epoch: 149/200, Train Loss: 0.1017, Eval Loss: 0.0974, F1 Score: 0.9639\n",
      "Epoch: 150/200, Train Loss: 0.1010, Eval Loss: 0.0976, F1 Score: 0.9637\n",
      "Epoch: 151/200, Train Loss: 0.1008, Eval Loss: 0.0975, F1 Score: 0.9649\n",
      "Epoch: 152/200, Train Loss: 0.1023, Eval Loss: 0.0970, F1 Score: 0.9639\n",
      "Epoch: 153/200, Train Loss: 0.1001, Eval Loss: 0.0967, F1 Score: 0.9639\n",
      "Epoch: 154/200, Train Loss: 0.1000, Eval Loss: 0.0966, F1 Score: 0.9643\n",
      "Epoch: 155/200, Train Loss: 0.1007, Eval Loss: 0.0963, F1 Score: 0.9641\n",
      "Epoch: 156/200, Train Loss: 0.0998, Eval Loss: 0.0962, F1 Score: 0.9641\n",
      "Epoch: 157/200, Train Loss: 0.0994, Eval Loss: 0.0956, F1 Score: 0.9651\n",
      "Epoch: 158/200, Train Loss: 0.1004, Eval Loss: 0.0957, F1 Score: 0.9639\n",
      "Epoch: 159/200, Train Loss: 0.0991, Eval Loss: 0.0952, F1 Score: 0.9641\n",
      "Epoch: 160/200, Train Loss: 0.0999, Eval Loss: 0.0950, F1 Score: 0.9644\n",
      "Epoch: 161/200, Train Loss: 0.1008, Eval Loss: 0.0949, F1 Score: 0.9648\n",
      "Epoch: 162/200, Train Loss: 0.0992, Eval Loss: 0.0948, F1 Score: 0.9648\n",
      "Epoch: 163/200, Train Loss: 0.0986, Eval Loss: 0.0946, F1 Score: 0.9647\n",
      "Epoch: 164/200, Train Loss: 0.0989, Eval Loss: 0.0957, F1 Score: 0.9650\n",
      "Epoch: 165/200, Train Loss: 0.0977, Eval Loss: 0.0944, F1 Score: 0.9653\n",
      "Epoch: 166/200, Train Loss: 0.0990, Eval Loss: 0.0940, F1 Score: 0.9648\n",
      "Epoch: 167/200, Train Loss: 0.0983, Eval Loss: 0.0951, F1 Score: 0.9656\n",
      "Epoch: 168/200, Train Loss: 0.0966, Eval Loss: 0.0953, F1 Score: 0.9653\n",
      "Epoch: 169/200, Train Loss: 0.0974, Eval Loss: 0.0935, F1 Score: 0.9650\n",
      "Epoch: 170/200, Train Loss: 0.0984, Eval Loss: 0.0939, F1 Score: 0.9659\n",
      "Epoch: 171/200, Train Loss: 0.0967, Eval Loss: 0.0932, F1 Score: 0.9647\n",
      "Epoch: 172/200, Train Loss: 0.0967, Eval Loss: 0.0935, F1 Score: 0.9659\n",
      "Epoch: 173/200, Train Loss: 0.0952, Eval Loss: 0.0941, F1 Score: 0.9656\n",
      "Epoch: 174/200, Train Loss: 0.0967, Eval Loss: 0.0941, F1 Score: 0.9659\n",
      "Epoch: 175/200, Train Loss: 0.0962, Eval Loss: 0.0945, F1 Score: 0.9658\n",
      "Epoch: 176/200, Train Loss: 0.0960, Eval Loss: 0.0925, F1 Score: 0.9659\n",
      "Epoch: 177/200, Train Loss: 0.0955, Eval Loss: 0.0928, F1 Score: 0.9646\n",
      "Epoch: 178/200, Train Loss: 0.0951, Eval Loss: 0.0922, F1 Score: 0.9656\n",
      "Epoch: 179/200, Train Loss: 0.0956, Eval Loss: 0.0942, F1 Score: 0.9658\n",
      "Epoch: 180/200, Train Loss: 0.0956, Eval Loss: 0.0934, F1 Score: 0.9661\n",
      "Epoch: 181/200, Train Loss: 0.0961, Eval Loss: 0.0923, F1 Score: 0.9662\n",
      "Epoch: 182/200, Train Loss: 0.0958, Eval Loss: 0.0917, F1 Score: 0.9659\n",
      "Epoch: 183/200, Train Loss: 0.0956, Eval Loss: 0.0945, F1 Score: 0.9651\n",
      "Epoch: 184/200, Train Loss: 0.0939, Eval Loss: 0.0936, F1 Score: 0.9658\n",
      "Epoch: 185/200, Train Loss: 0.0939, Eval Loss: 0.0953, F1 Score: 0.9666\n",
      "Epoch: 186/200, Train Loss: 0.0939, Eval Loss: 0.0912, F1 Score: 0.9652\n",
      "Epoch: 187/200, Train Loss: 0.0961, Eval Loss: 0.0911, F1 Score: 0.9653\n",
      "Epoch: 188/200, Train Loss: 0.0938, Eval Loss: 0.0904, F1 Score: 0.9657\n",
      "Epoch: 189/200, Train Loss: 0.0940, Eval Loss: 0.0904, F1 Score: 0.9663\n",
      "Epoch: 190/200, Train Loss: 0.0950, Eval Loss: 0.0914, F1 Score: 0.9665\n",
      "Epoch: 191/200, Train Loss: 0.0940, Eval Loss: 0.0908, F1 Score: 0.9659\n",
      "Epoch: 192/200, Train Loss: 0.0920, Eval Loss: 0.0921, F1 Score: 0.9669\n",
      "Epoch: 193/200, Train Loss: 0.0932, Eval Loss: 0.0913, F1 Score: 0.9662\n",
      "Epoch: 194/200, Train Loss: 0.0920, Eval Loss: 0.0964, F1 Score: 0.9675\n",
      "Epoch: 195/200, Train Loss: 0.0921, Eval Loss: 0.0901, F1 Score: 0.9656\n",
      "Epoch: 196/200, Train Loss: 0.0920, Eval Loss: 0.0897, F1 Score: 0.9662\n",
      "Epoch: 197/200, Train Loss: 0.0917, Eval Loss: 0.0894, F1 Score: 0.9655\n",
      "Epoch: 198/200, Train Loss: 0.0917, Eval Loss: 0.0891, F1 Score: 0.9666\n",
      "Epoch: 199/200, Train Loss: 0.0917, Eval Loss: 0.0918, F1 Score: 0.9667\n",
      "Epoch: 200/200, Train Loss: 0.0921, Eval Loss: 0.0924, F1 Score: 0.9679\n"
     ]
    },
    {
     "data": {
      "image/png": "[encoded data removed]",
      "text/plain": [
       "<Figure size 640x480 with 1 Axes>"
      ]
     },
     "metadata": {},
     "output_type": "display_data"
    },
    {
     "name": "stdout",
     "output_type": "stream",
     "text": [
      "CPU times: user 1min 3s, sys: 1.56 s, total: 1min 5s\n",
      "Wall time: 1min 5s\n"
     ]
    },
    {
     "data": {
      "text/plain": [
       "MLP(\n",
       "  (seq): Sequential(\n",
       "    (0): Linear(in_features=821, out_features=824, bias=True)\n",
       "    (1): ReLU()\n",
       "    (2): Dropout(p=0.5, inplace=False)\n",
       "    (3): Linear(in_features=824, out_features=2, bias=True)\n",
       "    (4): LogSoftmax(dim=-1)\n",
       "  )\n",
       ")"
      ]
     },
     "execution_count": 36,
     "metadata": {},
     "output_type": "execute_result"
    }
   ],
   "source": [
    "%time train(module, optimizer, criterion, train_dataloader, eval_dataloader, epochs=max_epochs)"
   ]
  },
  {
   "cell_type": "code",
   "execution_count": 37,
   "id": "ee9d3717-e779-417b-8dd3-2686fdec57a5",
   "metadata": {},
   "outputs": [
    {
     "name": "stdout",
     "output_type": "stream",
     "text": [
      "Test Loss: 24.6913, F1 Score (Test): 0.9523\n"
     ]
    }
   ],
   "source": [
    "# Evaluation on testdata  \n",
    "best_model = MLP()\n",
    "best_model.load_state_dict(torch.load('./MLP_big/best-model-parameters.pt', map_location=torch.device('cpu'))) # change Path\n",
    "best_model.eval()\n",
    "\n",
    "test_loss = 0\n",
    "y_true_test = []\n",
    "y_pred_test = []\n",
    "for xb, yb in test_dataloader:\n",
    "    with torch.no_grad():\n",
    "        outputs = best_model(xb)\n",
    "        loss = criterion(outputs, yb)\n",
    "        test_loss += loss.detach().item()\n",
    "\n",
    "        # Calculate predictions\n",
    "        _, predicted = torch.max(outputs, 1)\n",
    "        y_true_test.extend(yb.numpy())\n",
    "        y_pred_test.extend(predicted.numpy())\n",
    "\n",
    "test_loss_total = test_loss / len(test_dataloader)\n",
    "f1_test = f1_score(y_true_test, y_pred_test)\n",
    "print(f\"Test Loss: {test_loss_total:.4f}, F1 Score (Test): {f1_test:.4f}\")"
   ]
  }
 ],
 "metadata": {
  "kernelspec": {
   "display_name": "Python 3 (ipykernel)",
   "language": "python",
   "name": "python3"
  },
  "language_info": {
   "codemirror_mode": {
    "name": "ipython",
    "version": 3
   },
   "file_extension": ".py",
   "mimetype": "text/x-python",
   "name": "python",
   "nbconvert_exporter": "python",
   "pygments_lexer": "ipython3",
   "version": "3.8.18"
  }
 },
 "nbformat": 4,
 "nbformat_minor": 5
}
